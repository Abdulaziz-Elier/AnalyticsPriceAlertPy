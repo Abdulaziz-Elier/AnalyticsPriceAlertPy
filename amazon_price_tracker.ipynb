{
 "cells": [
  {
   "cell_type": "code",
   "execution_count": 2,
   "id": "d5b4d410-6162-415f-9cdc-21ffdd78c8eb",
   "metadata": {},
   "outputs": [],
   "source": [
    "# import libraries \n",
    "from bs4 import BeautifulSoup\n",
    "import requests\n",
    "import smtplib\n",
    "import time\n",
    "import datetime"
   ]
  },
  {
   "cell_type": "code",
   "execution_count": 30,
   "id": "dcd07821-e204-4fa3-8573-eff4767f9130",
   "metadata": {},
   "outputs": [
    {
     "data": {
      "text/plain": [
       "str"
      ]
     },
     "execution_count": 30,
     "metadata": {},
     "output_type": "execute_result"
    }
   ],
   "source": [
    "#connect to website\n",
    "url = 'https://www.amazon.co.uk/Definitive-Guide-DAX-intelligence-Microsoft/dp/1509306978/ref=sr_1_3_sspa?crid=1BA2VMM5GW583&dib=eyJ2IjoiMSJ9.-gpoRHKuoar8wXiBsxJpXG0rXnCdmIxX-YWK-xW2CWSxQvrs9kNmXCyeCtJeqxPNqKBpRDFr53utKsdEtrN2bgc4S1xA2dGmtoJAe6dYAgbryylP2DRca21f3Ff1Sp5XF6d0mmpujAPEebZmLiRY6Trf_fPtvzEZDHsDQUWZtoRdMJHpbbpcDfS5OCaHq6-0PCv91CvdUcWnY6Af2923d1wsEMbuUXMXJt0OuCbnzUg.QHZCFc-bxlY5s84QpaDSVbnhfmKQTlChcLIc45EnBek&dib_tag=se&keywords=sql+dax&qid=1717886501&sprefix=sql+dax%2Caps%2C63&sr=8-3-spons&sp_csd=d2lkZ2V0TmFtZT1zcF9hdGY&psc=1'\n",
    "headers = {\n",
    "    \"User-Agent\": \"Mozilla/5.0 (Windows NT 10.0; Win64; x64) AppleWebKit/537.36 (KHTML, like Gecko) Chrome/125.0.0.0 Safari/537.36 Edg/125.0.0.0\",\n",
    "    \"Accept-Encoding\": \"gzip, deflate\",\n",
    "    \"Accept\": \"text/html,application/xhtml+xml,application/xml;q=0.9,*/*;q=0.8\",\n",
    "    \"DNT\": \"1\",\n",
    "    \"Connection\": \"close\",\n",
    "    \"Upgrade-Insecure-Requests\": \"1\"\n",
    "}\n",
    "\n",
    "page = requests.get(url, headers=headers)\n",
    "soup1 = BeautifulSoup(page.content, \"html.parser\")\n",
    "soup2 = BeautifulSoup(soup1.prettify(), \"html.parser\")\n",
    "\n",
    "# Extract the title\n",
    "title = soup2.find(id='productTitle').get_text().strip()\n",
    "# print(\"Title:\", title)\n",
    "\n",
    "price_whole = soup2.find(class_='a-price-whole').get_text().strip()\n",
    "\n",
    "# Combine the price parts\n",
    "price = price_whole\n",
    "\n",
    "\n",
    "# print(\"Price:\", price)\n",
    "#type(price)\n"
   ]
  },
  {
   "cell_type": "code",
   "execution_count": null,
   "id": "fb9a105e-af07-4838-8cab-8b6241d26d1b",
   "metadata": {},
   "outputs": [],
   "source": [
    "import datetime\n",
    "today = datetime.date.today()\n",
    "print(today)"
   ]
  },
  {
   "cell_type": "code",
   "execution_count": 37,
   "id": "e47fc4d9-46e8-485a-932f-9af6e406a815",
   "metadata": {},
   "outputs": [],
   "source": [
    "import csv \n",
    "\n",
    "header = ['Title', 'Price', 'Date']\n",
    "data = [title,price,today]\n",
    "\n",
    "with open('AmazonScraper.csv', 'w', newline='', encoding='UTF8') as f:\n",
    "    writer = csv.writer(f)\n",
    "    writer.writerow(header)\n",
    "    writer.writerow(data)"
   ]
  },
  {
   "cell_type": "code",
   "execution_count": 39,
   "id": "3cce5c5b-6c87-4aa3-9e72-1f2db587ae69",
   "metadata": {},
   "outputs": [
    {
     "name": "stdout",
     "output_type": "stream",
     "text": [
      "                                               Title  \\\n",
      "0  The Definitive Guide to DAX: Business intellig...   \n",
      "\n",
      "                                               Price        Date  \n",
      "0  32\\n                                 \\n       ...  2024-06-11  \n"
     ]
    }
   ],
   "source": [
    "import pandas as pd \n",
    "df = pd.read_csv('C:\\\\Users\\\\Aziz\\\\AmazonScraper.csv')\n",
    "print(df)"
   ]
  },
  {
   "cell_type": "code",
   "execution_count": null,
   "id": "89603b9f-99f6-4080-ac45-67e208c9ab0d",
   "metadata": {},
   "outputs": [],
   "source": [
    "\n",
    "#appending data to the csv \n",
    "\n",
    "with open('AmazonScraper.csv', 'a+', newline='', encoding='UTF8') as f:\n",
    "    writer = csv.writer(f)\n",
    "    writer.writerow(data)"
   ]
  },
  {
   "cell_type": "code",
   "execution_count": 49,
   "id": "26181ee7-819d-4fbc-8998-1ad22181188c",
   "metadata": {},
   "outputs": [],
   "source": [
    "def check_price():\n",
    "    url = 'https://www.amazon.co.uk/Definitive-Guide-DAX-intelligence-Microsoft/dp/1509306978/ref=sr_1_3_sspa?crid=1BA2VMM5GW583&dib=eyJ2IjoiMSJ9.-gpoRHKuoar8wXiBsxJpXG0rXnCdmIxX-YWK-xW2CWSxQvrs9kNmXCyeCtJeqxPNqKBpRDFr53utKsdEtrN2bgc4S1xA2dGmtoJAe6dYAgbryylP2DRca21f3Ff1Sp5XF6d0mmpujAPEebZmLiRY6Trf_fPtvzEZDHsDQUWZtoRdMJHpbbpcDfS5OCaHq6-0PCv91CvdUcWnY6Af2923d1wsEMbuUXMXJt0OuCbnzUg.QHZCFc-bxlY5s84QpaDSVbnhfmKQTlChcLIc45EnBek&dib_tag=se&keywords=sql+dax&qid=1717886501&sprefix=sql+dax%2Caps%2C63&sr=8-3-spons&sp_csd=d2lkZ2V0TmFtZT1zcF9hdGY&psc=1'\n",
    "    headers = {\n",
    "    \"User-Agent\": \"Mozilla/5.0 (Windows NT 10.0; Win64; x64) AppleWebKit/537.36 (KHTML, like Gecko) Chrome/125.0.0.0 Safari/537.36 Edg/125.0.0.0\",\n",
    "    \"Accept-Encoding\": \"gzip, deflate\",\n",
    "    \"Accept\": \"text/html,application/xhtml+xml,application/xml;q=0.9,*/*;q=0.8\",\n",
    "    \"DNT\": \"1\",\n",
    "    \"Connection\": \"close\",\n",
    "    \"Upgrade-Insecure-Requests\": \"1\"\n",
    "    }\n",
    "\n",
    "    page = requests.get(url, headers=headers)\n",
    "    soup1 = BeautifulSoup(page.content, \"html.parser\")\n",
    "    soup2 = BeautifulSoup(soup1.prettify(), \"html.parser\")\n",
    "\n",
    "    title = soup2.find(id='productTitle').get_text().strip()\n",
    "\n",
    "\n",
    "    price_whole = soup2.find(class_='a-price-whole').get_text().strip()\n",
    "    price = price_whole\n",
    "    \n",
    "    today = datetime.date.today()\n",
    "    #print(today)\n",
    "\n",
    "    import csv \n",
    "\n",
    "    header = ['Title', 'Price', 'Date']\n",
    "    data = [title,price,today]\n",
    "\n",
    "    with open('AmazonScraper.csv', 'a+', newline='', encoding='UTF8') as f:\n",
    "        writer = csv.writer(f)\n",
    "        writer.writerow(data)\n",
    "        "
   ]
  },
  {
   "cell_type": "code",
   "execution_count": null,
   "id": "c8211598-0e18-4145-9fc5-e386ff2434bb",
   "metadata": {},
   "outputs": [],
   "source": [
    "while (True):\n",
    "    check_price()\n",
    "    time.sleep(182800)"
   ]
  },
  {
   "cell_type": "code",
   "execution_count": null,
   "id": "e729a8ee-bc95-4b02-9f66-b83231cdd55a",
   "metadata": {},
   "outputs": [],
   "source": [
    "import pandas as pd \n",
    "df = pd.read_csv('C:\\\\Users\\\\Aziz\\\\AmazonScraper.csv')\n",
    "print(df)"
   ]
  },
  {
   "cell_type": "code",
   "execution_count": null,
   "id": "628f7f43-9872-4b32-af2f-a40c649e5be1",
   "metadata": {},
   "outputs": [],
   "source": [
    "# sending  an email when a price hits below a certain level\n",
    "# out with this script\n",
    "\n",
    "def send_mail():\n",
    "    server = smtplib.SMTP_SSL('smtp.gmail.com',465)\n",
    "    server.ehlo()\n",
    "    #server.starttls()\n",
    "    server.ehlo()\n",
    "    server.login('Abdulazizelier@gmail.com','xxxxxxxxxxxxxx')\n",
    "    \n",
    "    subject = \"Book is now within your price range\"\n",
    "    body = \"Abdulaziz, This is the moment! Now is your chance to pick up the Book for your learning path. Don't mess it up! Link here:https://www.amazon.co.uk/Definitive-Guide-DAX-intelligence-Microsoft/dp/1509306978/ref=sr_1_3_sspa?crid=1BA2VMM5GW583&dib=eyJ2IjoiMSJ9.-gpoRHKuoar8wXiBsxJpXG0rXnCdmIxX-YWK-xW2CWSxQvrs9kNmXCyeCtJeqxPNqKBpRDFr53utKsdEtrN2bgc4S1xA2dGmtoJAe6dYAgbryylP2DRca21f3Ff1Sp5XF6d0mmpujAPEebZmLiRY6Trf_fPtvzEZDHsDQUWZtoRdMJHpbbpcDfS5OCaHq6-0PCv91CvdUcWnY6Af2923d1wsEMbuUXMXJt0OuCbnzUg.QHZCFc-bxlY5s84QpaDSVbnhfmKQTlChcLIc45EnBek&dib_tag=se&keywords=sql+dax&qid=1717886501&sprefix=sql+dax%2Caps%2C63&sr=8-3-spons&sp_csd=d2lkZ2V0TmFtZT1zcF9hdGY&psc=1\n",
    "   \n",
    "    msg = f\"Subject: {subject}\\n\\n{body}\"\n",
    "    \n",
    "    server.sendmail(\n",
    "        'Abdulazizelier@gmail.com',\n",
    "        msg\n",
    "     "
   ]
  },
  {
   "cell_type": "code",
   "execution_count": null,
   "id": "a8372dae-c65a-468d-93ee-946c19187e39",
   "metadata": {},
   "outputs": [],
   "source": []
  },
  {
   "cell_type": "code",
   "execution_count": null,
   "id": "b25affdb-13b5-477f-ad74-d87833a6ba73",
   "metadata": {},
   "outputs": [],
   "source": []
  },
  {
   "cell_type": "code",
   "execution_count": null,
   "id": "b53ce711-1be6-40ef-8b8c-bc530237440c",
   "metadata": {},
   "outputs": [],
   "source": []
  }
 ],
 "metadata": {
  "kernelspec": {
   "display_name": "Python 3 (ipykernel)",
   "language": "python",
   "name": "python3"
  },
  "language_info": {
   "codemirror_mode": {
    "name": "ipython",
    "version": 3
   },
   "file_extension": ".py",
   "mimetype": "text/x-python",
   "name": "python",
   "nbconvert_exporter": "python",
   "pygments_lexer": "ipython3",
   "version": "3.11.7"
  }
 },
 "nbformat": 4,
 "nbformat_minor": 5
}
